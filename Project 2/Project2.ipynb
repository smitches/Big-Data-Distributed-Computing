{
 "cells": [
  {
   "cell_type": "markdown",
   "metadata": {
    "colab_type": "text",
    "id": "Q9j96RMMDg-n"
   },
   "source": []
  },
  {
   "cell_type": "markdown",
   "metadata": {
    "colab_type": "text",
    "id": "R_VO3LAhDknB"
   },
   "source": [
    "## <p style=\"text-align: center;\">MIS 284N - Big Data and Distributed Programming</p>\n",
    "## <p style=\"text-align: center;\">Project 2 - Machine Learning using Scikit and AWS</p>\n",
    "## <p style=\"text-align: center;\">Total points: 100</p>\n",
    "## <p style=\"text-align: center;\">Due: Friday, October 4 submitted via Canvas by 11:59 pm</p>\n",
    "\n",
    "Your homework should be written in a **Jupyter notebook**. You may work in groups of two if you wish. Only one student per team needs to submit the assignment on Canvas.  But be sure to include name and UTID for both students.\n",
    "\n",
    "Also, please make sure your code runs and the graphics (and anything else) are displayed in your notebook before submitting. (%matplotlib inline)\n",
    "\n",
    "This project is about giving exposure about Machine learning, its usage, Cloud services and why they are helpful in analyzing Big Data.\n",
    "\n",
    "In this Project, we are trying to analyze the crime data. This data is taken from <a href=https://data.cityofchicago.org/Public-Safety/Crimes-2001-to-present/ijzp-q8t2/data> here </a>. You have to download data from here, it should be around 1.6 GB in size. You have to predict type of crime that can happen given the features.\n",
    "\n",
    "You have to complete all the four tasks and report your observations for each if any.\n",
    "\n",
    "Note: Please post clarification questions on Piazza. "
   ]
  },
  {
   "cell_type": "code",
   "execution_count": 1,
   "metadata": {},
   "outputs": [],
   "source": [
    "import pandas as pd\n",
    "import numpy as np\n",
    "import matplotlib\n",
    "import matplotlib.pyplot as plt\n",
    "from sklearn.linear_model import LogisticRegression\n",
    "from sklearn.metrics import accuracy_score\n",
    "from sklearn.model_selection import train_test_split\n",
    "import time"
   ]
  },
  {
   "cell_type": "code",
   "execution_count": 2,
   "metadata": {},
   "outputs": [],
   "source": [
    "crime_df = pd.read_csv('crimes16-19.csv')"
   ]
  },
  {
   "cell_type": "code",
   "execution_count": 3,
   "metadata": {},
   "outputs": [
    {
     "name": "stdout",
     "output_type": "stream",
     "text": [
      "ID                                                 11834500\n",
      "Case Number                                        JC440683\n",
      "Date                                 09/19/2019 11:55:00 PM\n",
      "Block                                       019XX W 79TH ST\n",
      "IUCR                                                   1310\n",
      "Primary Type                                CRIMINAL DAMAGE\n",
      "Description                                     TO PROPERTY\n",
      "Location Description                             RESTAURANT\n",
      "Arrest                                                False\n",
      "Domestic                                              False\n",
      "Beat                                                    611\n",
      "District                                                  6\n",
      "Ward                                                     17\n",
      "Community Area                                           71\n",
      "FBI Code                                                 14\n",
      "X Coordinate                                    1.16458e+06\n",
      "Y Coordinate                                    1.85227e+06\n",
      "Year                                                   2019\n",
      "Updated On                           09/26/2019 04:25:03 PM\n",
      "Latitude                                            41.7502\n",
      "Longitude                                          -87.6725\n",
      "Location                      (41.750239984, -87.672467266)\n",
      "Historical Wards 2003-2015                                6\n",
      "Zip Codes                                             21554\n",
      "Community Areas                                          70\n",
      "Census Tracts                                           573\n",
      "Wards                                                    31\n",
      "Boundaries - ZIP Codes                                   59\n",
      "Police Districts                                         20\n",
      "Police Beats                                            231\n",
      "Name: 0, dtype: object\n"
     ]
    }
   ],
   "source": [
    "print(crime_df.iloc[0])"
   ]
  },
  {
   "cell_type": "markdown",
   "metadata": {
    "colab_type": "text",
    "id": "m97e7PEFEFwE"
   },
   "source": [
    "# Task 1 - Read the data and filter the data you need\n",
    "\n",
    "This is open ended, you can use any features you want and drop any one of them. The 'Primary Type' is our target variable which we will be predicting for.\n",
    "This task is split into multiple parts:\n",
    "\n",
    "\n",
    "1.   Print the Histogram of variable 'Primary Type'. The x-axis should be each primary type, and the y-axis will the the count of each Primary type.\n",
    "2. Sort the histogram in decreasing order. This will help you to understand which Primary Type of crime occured more than the rest. \n",
    "3. Now, 'K' is the total number of classes in Primary Type. Experiment with K=2,3,4,5 as the most popular Primary Type data to be used and predicted. \n",
    "4.  Given a percentage 'P', find the most number of 'K' your local system can handle during data loading, training and prediction. Report that 'K'. Ideally, you should test for a 'P' value of 60%. Meaning, you should have used 60% of the total data you are given. If you are given 1000 samples, you should use at least 600 samples and split that into train and test. \n",
    "5.  For each K=2,3,4,5 and percentage 'P', you should have trained a model and report the accuracy. (Refer to other tasks)\n",
    "Hint: Split your data for each k=2,3,4,5 and P values and run individual models on them. \n",
    "Split the data into training and testing in the ratio of 80:20."
   ]
  },
  {
   "cell_type": "code",
   "execution_count": 4,
   "metadata": {},
   "outputs": [
    {
     "data": {
      "text/plain": [
       "<matplotlib.axes._subplots.AxesSubplot at 0x1a2cc3f0048>"
      ]
     },
     "execution_count": 4,
     "metadata": {},
     "output_type": "execute_result"
    },
    {
     "data": {
      "image/png": "[encoded data removed]",
      "text/plain": [
       "<Figure size 432x288 with 1 Axes>"
      ]
     },
     "metadata": {
      "needs_background": "light"
     },
     "output_type": "display_data"
    }
   ],
   "source": [
    "#1.1 and 1.2\n",
    "counts = crime_df[\"Primary Type\"].value_counts()\n",
    "counts.plot.bar()"
   ]
  },
  {
   "cell_type": "code",
   "execution_count": 5,
   "metadata": {},
   "outputs": [],
   "source": [
    "#1.3 is covered in 1.5"
   ]
  },
  {
   "cell_type": "code",
   "execution_count": 12,
   "metadata": {},
   "outputs": [
    {
     "name": "stdout",
     "output_type": "stream",
     "text": [
      "Give desired percentage (.6 for 60%): .6\n",
      "K value that first exceeds given P value of 0.6 is K 4 with actual P of 0.6087\n"
     ]
    }
   ],
   "source": [
    "#1.4\n",
    "given_p = float(input(\"Give desired percentage (.6 for 60%): \"))\n",
    "k = 2\n",
    "crimes = [x[0] for x in counts[:k].items()]\n",
    "k_crimes = crime_df.loc[crime_df['Primary Type'].isin(crimes)]\n",
    "p = len(k_crimes.index) / len(crime_df.index)\n",
    "while p < given_p:\n",
    "    k += 1\n",
    "    crimes = [x[0] for x in counts[:k].items()]\n",
    "    k_crimes = crime_df.loc[crime_df['Primary Type'].isin(crimes)]\n",
    "    p = len(k_crimes.index) / len(crime_df.index)\n",
    "print(\"K value that first exceeds given P value of {} is K {} with actual P of {}\".format(given_p,k,round(p,4)))"
   ]
  },
  {
   "cell_type": "code",
   "execution_count": 16,
   "metadata": {},
   "outputs": [
    {
     "name": "stderr",
     "output_type": "stream",
     "text": [
      "C:\\Users\\beads\\Anaconda3\\lib\\site-packages\\sklearn\\linear_model\\logistic.py:433: FutureWarning: Default solver will be changed to 'lbfgs' in 0.22. Specify a solver to silence this warning.\n",
      "  FutureWarning)\n"
     ]
    },
    {
     "name": "stdout",
     "output_type": "stream",
     "text": [
      "k            2.000000\n",
      "p           42.159722\n",
      "accuracy    58.341453\n",
      "dtype: float64\n",
      "\n"
     ]
    },
    {
     "name": "stderr",
     "output_type": "stream",
     "text": [
      "C:\\Users\\beads\\Anaconda3\\lib\\site-packages\\sklearn\\linear_model\\logistic.py:433: FutureWarning: Default solver will be changed to 'lbfgs' in 0.22. Specify a solver to silence this warning.\n",
      "  FutureWarning)\n",
      "C:\\Users\\beads\\Anaconda3\\lib\\site-packages\\sklearn\\linear_model\\logistic.py:460: FutureWarning: Default multi_class will be changed to 'auto' in 0.22. Specify the multi_class option to silence this warning.\n",
      "  \"this warning.\", FutureWarning)\n"
     ]
    },
    {
     "name": "stdout",
     "output_type": "stream",
     "text": [
      "k            3.000000\n",
      "p           52.709069\n",
      "accuracy    47.446673\n",
      "dtype: float64\n",
      "\n"
     ]
    },
    {
     "name": "stderr",
     "output_type": "stream",
     "text": [
      "C:\\Users\\beads\\Anaconda3\\lib\\site-packages\\sklearn\\linear_model\\logistic.py:433: FutureWarning: Default solver will be changed to 'lbfgs' in 0.22. Specify a solver to silence this warning.\n",
      "  FutureWarning)\n",
      "C:\\Users\\beads\\Anaconda3\\lib\\site-packages\\sklearn\\linear_model\\logistic.py:460: FutureWarning: Default multi_class will be changed to 'auto' in 0.22. Specify the multi_class option to silence this warning.\n",
      "  \"this warning.\", FutureWarning)\n"
     ]
    },
    {
     "name": "stdout",
     "output_type": "stream",
     "text": [
      "k            4.000000\n",
      "p           60.173749\n",
      "accuracy    41.097761\n",
      "dtype: float64\n",
      "\n"
     ]
    },
    {
     "name": "stderr",
     "output_type": "stream",
     "text": [
      "C:\\Users\\beads\\Anaconda3\\lib\\site-packages\\sklearn\\linear_model\\logistic.py:433: FutureWarning: Default solver will be changed to 'lbfgs' in 0.22. Specify a solver to silence this warning.\n",
      "  FutureWarning)\n",
      "C:\\Users\\beads\\Anaconda3\\lib\\site-packages\\sklearn\\linear_model\\logistic.py:460: FutureWarning: Default multi_class will be changed to 'auto' in 0.22. Specify the multi_class option to silence this warning.\n",
      "  \"this warning.\", FutureWarning)\n"
     ]
    },
    {
     "name": "stdout",
     "output_type": "stream",
     "text": [
      "k            5.000000\n",
      "p           66.772716\n",
      "accuracy    36.983332\n",
      "dtype: float64\n",
      "\n"
     ]
    }
   ],
   "source": [
    "#1.5\n",
    "for k in range(2,6):\n",
    "    crimes = [x[0] for x in counts[:k].items()]\n",
    "    k_crimes = crime_df.loc[crime_df['Primary Type'].isin(crimes)].drop(['ID','Case Number','Date','Block',\n",
    "                                     'FBI Code','Location','Description',\n",
    "                                     'Location Description','Updated On'],\n",
    "                                    axis=1).dropna()\n",
    "    \n",
    "    X = k_crimes.drop('Primary Type', axis=1)\n",
    "    X = pd.get_dummies(X)\n",
    "    \n",
    "    y = k_crimes['Primary Type']\n",
    "    \n",
    "    X_train, X_test, y_train, y_test = train_test_split(\n",
    "        X, y, test_size=0.2, random_state=0)\n",
    "    \n",
    "    #train model\n",
    "    lr = LogisticRegression(C=10.0, random_state=0)\n",
    "    lr.fit(X_train, y_train)\n",
    "    \n",
    "    #test model\n",
    "    y_pred = lr.predict(X_test)\n",
    "    accuracy = accuracy_score(y_test,y_pred)\n",
    "    \n",
    "    p = len(k_crimes.index) / len(crime_df.index)\n",
    "    \n",
    "    print(pd.Series([int(k),p*100,accuracy*100], index = ['k','p','accuracy']))\n",
    "    print()"
   ]
  },
  {
   "cell_type": "markdown",
   "metadata": {},
   "source": [
    "1.5 is below in task"
   ]
  },
  {
   "cell_type": "markdown",
   "metadata": {
    "colab_type": "text",
    "id": "4wYum7PQFj1w"
   },
   "source": [
    "# Task 2 - Convert the features in a form that can be given as input to scikit library/functions\n",
    "\n",
    "Here you have to search a little bit. The data that we are using has data other than numerical values. The model takes values as numerical or categorical data. You need to convert the input data to either one of these forms. "
   ]
  },
  {
   "cell_type": "code",
   "execution_count": 25,
   "metadata": {},
   "outputs": [
    {
     "name": "stdout",
     "output_type": "stream",
     "text": [
      "(776527, 364)\n",
      "Local time to process data and convert is 6,125,000,000 ns\n"
     ]
    }
   ],
   "source": [
    "t0 = time.process_time_ns()\n",
    "features_crime_df = pd.get_dummies(crime_df.dropna().drop(['ID','Case Number','Date','Block',\n",
    "                                     'FBI Code','Location','Description',\n",
    "                                     'Location Description','Updated On','Primary Type'],\n",
    "                                    axis=1))\n",
    "features_crime_df[\"Primary Type\"] = crime_df.dropna()[\"Primary Type\"]\n",
    "print(f'Local time to process data and convert is {time.process_time_ns() - t0:,} ns')"
   ]
  },
  {
   "cell_type": "markdown",
   "metadata": {},
   "source": [
    "AWS time to process data and convert is **put value here**"
   ]
  },
  {
   "cell_type": "markdown",
   "metadata": {
    "colab_type": "text",
    "id": "HFSaB7L9HhFS"
   },
   "source": [
    "# Task 3 - Build the model\n",
    "\n",
    "Once the features are made converted to the form accepted by scikit library, you have to build a machine learning model. Given the features predict the type of crime. \n",
    "Report the accuracy, F1, Precision and Recall of the model."
   ]
  },
  {
   "cell_type": "code",
   "execution_count": 26,
   "metadata": {},
   "outputs": [
    {
     "name": "stdout",
     "output_type": "stream",
     "text": [
      "Give a k value (or leave blank for default value of 4):\n"
     ]
    },
    {
     "name": "stderr",
     "output_type": "stream",
     "text": [
      "C:\\Users\\beads\\Anaconda3\\lib\\site-packages\\sklearn\\linear_model\\logistic.py:433: FutureWarning: Default solver will be changed to 'lbfgs' in 0.22. Specify a solver to silence this warning.\n",
      "  FutureWarning)\n",
      "C:\\Users\\beads\\Anaconda3\\lib\\site-packages\\sklearn\\linear_model\\logistic.py:460: FutureWarning: Default multi_class will be changed to 'auto' in 0.22. Specify the multi_class option to silence this warning.\n",
      "  \"this warning.\", FutureWarning)\n"
     ]
    },
    {
     "name": "stdout",
     "output_type": "stream",
     "text": [
      "Model                                           Multivariate LR\n",
      "k                                                             4\n",
      "p (%)                                                   61.3053\n",
      "Accuracy                                                40.9438\n",
      "F1                                                        f1val\n",
      "Precision                                             precisval\n",
      "Recall                                                 recalval\n",
      "Data Processing/Feature Conversion Time (ns)      2,890,625,000\n",
      "Model Train & Test Time (ns)                     19,640,625,000\n",
      "Machine                                                   local\n",
      "dtype: object\n",
      "\n"
     ]
    }
   ],
   "source": [
    "k = int(input(\"Give a k value (or leave blank for default value of 4):\") or 4)\n",
    "t0 = time.process_time_ns()\n",
    "\n",
    "crimes = [x[0] for x in counts[:k].items()]\n",
    "k_crimes = features_crime_df.loc[features_crime_df['Primary Type'].isin(crimes)]\n",
    "X = k_crimes.drop('Primary Type', axis=1)\n",
    "\n",
    "y = k_crimes['Primary Type']\n",
    "\n",
    "X_train, X_test, y_train, y_test = train_test_split(\n",
    "    X, y, test_size=0.2, random_state=0)\n",
    "\n",
    "t1 = time.process_time_ns()\n",
    "data_time = t1-t0\n",
    "\n",
    "lr = LogisticRegression(C=10.0, random_state=0)\n",
    "lr.fit(X_train, y_train)\n",
    "y_pred = lr.predict(X_test)\n",
    "\n",
    "p = len(k_crimes.index) / len(features_crime_df.index)\n",
    "\n",
    "accuracy = accuracy_score(y_test,y_pred)\n",
    "model_time = time.process_time_ns() - t1\n",
    "print(pd.Series(['Multivariate LR',k,p*100,accuracy*100,'f1val','precisval','recalval',\n",
    "                 f'{data_time:,}',f'{model_time:,}','local'], \n",
    "            index = ['Model','k','p (%)','Accuracy','F1','Precision','Recall',\n",
    "                     'Data Processing/Feature Conversion Time (ns)','Model Train & Test Time (ns)',\n",
    "                     'Machine']))"
   ]
  },
  {
   "cell_type": "markdown",
   "metadata": {
    "colab_type": "text",
    "id": "ggNL0Ri7HttZ"
   },
   "source": [
    "# Task 4 - Run the model on your laptop and AWS cloud and observe the time taken for reading the data, training and testing, report the same.  \n",
    "\n",
    "Report your observations. Due to more RAM needed for the same, it might be the case that it doesn't run on your laptop, so in that case report your laptop configuration and state it didnt run."
   ]
  },
  {
   "cell_type": "markdown",
   "metadata": {
    "colab_type": "text",
    "id": "RVY5VAx8rPTY"
   },
   "source": []
  },
  {
   "cell_type": "code",
   "execution_count": null,
   "metadata": {
    "colab": {},
    "colab_type": "code",
    "id": "8CAdueTcDjkZ"
   },
   "outputs": [],
   "source": []
  },
  {
   "cell_type": "markdown",
   "metadata": {
    "colab_type": "text",
    "id": "CJ_EFqHcrQ8u"
   },
   "source": [
    "# Task 5 - Run K-fold cross validation and report the accuracy for a cv = 5. \n",
    "Report the total amount of time taken to run it on your laptop and AWS"
   ]
  },
  {
   "cell_type": "code",
   "execution_count": null,
   "metadata": {
    "colab": {},
    "colab_type": "code",
    "id": "bh2Q-xwIu4Ok"
   },
   "outputs": [],
   "source": []
  }
 ],
 "metadata": {
  "colab": {
   "collapsed_sections": [],
   "name": "Project2.ipynb",
   "provenance": []
  },
  "kernelspec": {
   "display_name": "Python 3",
   "language": "python",
   "name": "python3"
  },
  "language_info": {
   "codemirror_mode": {
    "name": "ipython",
    "version": 3
   },
   "file_extension": ".py",
   "mimetype": "text/x-python",
   "name": "python",
   "nbconvert_exporter": "python",
   "pygments_lexer": "ipython3",
   "version": "3.7.3"
  }
 },
 "nbformat": 4,
 "nbformat_minor": 1
}
